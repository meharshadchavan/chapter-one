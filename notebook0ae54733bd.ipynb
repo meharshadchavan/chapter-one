{
 "cells": [
  {
   "cell_type": "code",
   "execution_count": 1,
   "id": "f7d7aeb0",
   "metadata": {
    "_cell_guid": "b1076dfc-b9ad-4769-8c92-a6c4dae69d19",
    "_uuid": "8f2839f25d086af736a60e9eeb907d3b93b6e0e5",
    "execution": {
     "iopub.execute_input": "2025-03-24T17:38:33.376382Z",
     "iopub.status.busy": "2025-03-24T17:38:33.375953Z",
     "iopub.status.idle": "2025-03-24T17:38:34.361385Z",
     "shell.execute_reply": "2025-03-24T17:38:34.360020Z"
    },
    "papermill": {
     "duration": 0.990775,
     "end_time": "2025-03-24T17:38:34.363224",
     "exception": false,
     "start_time": "2025-03-24T17:38:33.372449",
     "status": "completed"
    },
    "tags": []
   },
   "outputs": [
    {
     "name": "stdout",
     "output_type": "stream",
     "text": [
      "/kaggle/input/gemma/keras/gemma_1.1_instruct_2b_en/4/config.json\n",
      "/kaggle/input/gemma/keras/gemma_1.1_instruct_2b_en/4/tokenizer.json\n",
      "/kaggle/input/gemma/keras/gemma_1.1_instruct_2b_en/4/metadata.json\n",
      "/kaggle/input/gemma/keras/gemma_1.1_instruct_2b_en/4/model.weights.h5\n",
      "/kaggle/input/gemma/keras/gemma_1.1_instruct_2b_en/4/assets/tokenizer/vocabulary.spm\n"
     ]
    }
   ],
   "source": [
    "# This Python 3 environment comes with many helpful analytics libraries installed\n",
    "# It is defined by the kaggle/python Docker image: https://github.com/kaggle/docker-python\n",
    "# For example, here's several helpful packages to load\n",
    "\n",
    "import numpy as np # linear algebra\n",
    "import pandas as pd # data processing, CSV file I/O (e.g. pd.read_csv)\n",
    "\n",
    "# Input data files are available in the read-only \"../input/\" directory\n",
    "# For example, running this (by clicking run or pressing Shift+Enter) will list all files under the input directory\n",
    "\n",
    "import os\n",
    "for dirname, _, filenames in os.walk('/kaggle/input'):\n",
    "    for filename in filenames:\n",
    "        print(os.path.join(dirname, filename))\n",
    "\n",
    "# You can write up to 20GB to the current directory (/kaggle/working/) that gets preserved as output when you create a version using \"Save & Run All\" \n",
    "# You can also write temporary files to /kaggle/temp/, but they won't be saved outside of the current session"
   ]
  },
  {
   "cell_type": "code",
   "execution_count": 2,
   "id": "e4b2dba8",
   "metadata": {
    "execution": {
     "iopub.execute_input": "2025-03-24T17:38:34.369199Z",
     "iopub.status.busy": "2025-03-24T17:38:34.368739Z",
     "iopub.status.idle": "2025-03-24T17:38:34.373889Z",
     "shell.execute_reply": "2025-03-24T17:38:34.372631Z"
    },
    "papermill": {
     "duration": 0.009662,
     "end_time": "2025-03-24T17:38:34.375505",
     "exception": false,
     "start_time": "2025-03-24T17:38:34.365843",
     "status": "completed"
    },
    "tags": []
   },
   "outputs": [
    {
     "name": "stdout",
     "output_type": "stream",
     "text": [
      "Hello, world!\n"
     ]
    }
   ],
   "source": [
    "print(\"Hello, world!\")"
   ]
  },
  {
   "cell_type": "markdown",
   "id": "0abc9b7e",
   "metadata": {
    "papermill": {
     "duration": 0.001718,
     "end_time": "2025-03-24T17:38:34.379372",
     "exception": false,
     "start_time": "2025-03-24T17:38:34.377654",
     "status": "completed"
    },
    "tags": []
   },
   "source": []
  },
  {
   "cell_type": "code",
   "execution_count": 3,
   "id": "3fdae169",
   "metadata": {
    "execution": {
     "iopub.execute_input": "2025-03-24T17:38:34.384381Z",
     "iopub.status.busy": "2025-03-24T17:38:34.384015Z",
     "iopub.status.idle": "2025-03-24T17:38:34.388857Z",
     "shell.execute_reply": "2025-03-24T17:38:34.387790Z"
    },
    "papermill": {
     "duration": 0.00915,
     "end_time": "2025-03-24T17:38:34.390406",
     "exception": false,
     "start_time": "2025-03-24T17:38:34.381256",
     "status": "completed"
    },
    "tags": []
   },
   "outputs": [
    {
     "name": "stdout",
     "output_type": "stream",
     "text": [
      "Hello, world!\n"
     ]
    }
   ],
   "source": [
    "print(\"Hello, world!\")"
   ]
  }
 ],
 "metadata": {
  "kaggle": {
   "accelerator": "none",
   "dataSources": [
    {
     "modelId": 3533,
     "modelInstanceId": 22009,
     "sourceId": 205106,
     "sourceType": "modelInstanceVersion"
    }
   ],
   "dockerImageVersionId": 30918,
   "isGpuEnabled": false,
   "isInternetEnabled": false,
   "language": "python",
   "sourceType": "notebook"
  },
  "kernelspec": {
   "display_name": "Python 3",
   "language": "python",
   "name": "python3"
  },
  "language_info": {
   "codemirror_mode": {
    "name": "ipython",
    "version": 3
   },
   "file_extension": ".py",
   "mimetype": "text/x-python",
   "name": "python",
   "nbconvert_exporter": "python",
   "pygments_lexer": "ipython3",
   "version": "3.10.12"
  },
  "papermill": {
   "default_parameters": {},
   "duration": 4.369815,
   "end_time": "2025-03-24T17:38:34.910725",
   "environment_variables": {},
   "exception": null,
   "input_path": "__notebook__.ipynb",
   "output_path": "__notebook__.ipynb",
   "parameters": {},
   "start_time": "2025-03-24T17:38:30.540910",
   "version": "2.6.0"
  }
 },
 "nbformat": 4,
 "nbformat_minor": 5
}
