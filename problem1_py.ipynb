{
  "nbformat": 4,
  "nbformat_minor": 0,
  "metadata": {
    "colab": {
      "provenance": [],
      "authorship_tag": "ABX9TyMRzlAPxDHdiNF4ANqqAt74",
      "include_colab_link": true
    },
    "kernelspec": {
      "name": "python3",
      "display_name": "Python 3"
    },
    "language_info": {
      "name": "python"
    }
  },
  "cells": [
    {
      "cell_type": "markdown",
      "metadata": {
        "id": "view-in-github",
        "colab_type": "text"
      },
      "source": [
        "<a href=\"https://colab.research.google.com/github/meharshadchavan/chapter-one/blob/main/problem1_py.ipynb\" target=\"_parent\"><img src=\"https://colab.research.google.com/assets/colab-badge.svg\" alt=\"Open In Colab\"/></a>"
      ]
    },
    {
      "cell_type": "code",
      "source": [
        "print(\"Twinkle, twinkle, little star, how I wonder what you are. Up above the world so high,\")\n",
        "print(\"like a diamond in the sky. Twinkle, twinkle, little star, how I wonder what you are\")\n",
        "\n",
        "print(\"When the blazing sun is set, and the grass with dew is wet. Then you show your little\")\n",
        "print(\"light, twinkle, twinkle all the night. Twinkle, twinkle little star, how I wonder what you are.\")\n",
        "\n",
        "print(\"Then the traveler in the dark thanks you for your tiny spark. How could he see where to \")\n",
        "print(\"go if you did not twinkle so? Twinkle, twinkle little star, how I wonder what you are.\")\n",
        "\n",
        "print(\"As your bright and tiny spark lights the traveler in the dark, though I know not what you\")\n",
        "print(\"are, twinkle, twinkle, little star. Twinkle, twinkle, little star, how I wonder what you are.\")"
      ],
      "metadata": {
        "colab": {
          "base_uri": "https://localhost:8080/"
        },
        "id": "x9fIYwrC2L5_",
        "outputId": "694dbe60-38d7-4a2c-c0c1-a2fb54eea93d"
      },
      "execution_count": 11,
      "outputs": [
        {
          "output_type": "stream",
          "name": "stdout",
          "text": [
            "Twinkle, twinkle, little star, how I wonder what you are. Up above the world so high,\n",
            "like a diamond in the sky. Twinkle, twinkle, little star, how I wonder what you are\n",
            "When the blazing sun is set, and the grass with dew is wet. Then you show your little\n",
            "light, twinkle, twinkle all the night. Twinkle, twinkle little star, how I wonder what you are.\n",
            "Then the traveler in the dark thanks you for your tiny spark. How could he see where to \n",
            "go if you did not twinkle so? Twinkle, twinkle little star, how I wonder what you are.\n",
            "As your bright and tiny spark lights the traveler in the dark, though I know not what you\n",
            "are, twinkle, twinkle, little star. Twinkle, twinkle, little star, how I wonder what you are.\n"
          ]
        }
      ]
    }
  ]
}